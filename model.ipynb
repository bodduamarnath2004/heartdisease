{
 "cells": [
  {
   "cell_type": "code",
   "execution_count": 1,
   "id": "befd24d1",
   "metadata": {
    "scrolled": true
   },
   "outputs": [],
   "source": [
    "import os\n",
    "import cv2\n",
    "data = []\n",
    "label = []\n",
    "for i in os.listdir(\"archive\"):\n",
    "    if i in [\"Normal\", \"Sick\"]: \n",
    "        for j in os.listdir(os.path.join(\"archive\", i)):\n",
    "            if j != \".DS_Store\" and os.path.isdir(os.path.join(\"archive\", i, j)): \n",
    "                for k in sorted(os.listdir(os.path.join(\"archive\", i, j)))[3:]: \n",
    "                    if k != \".DS_Store\" and os.path.isdir(os.path.join(\"archive\", i, j, k)):  \n",
    "                        for l in os.listdir(os.path.join(\"archive\", i, j, k))[:10]:\n",
    "                            img_path = os.path.join(\"archive\", i, j, k, l)\n",
    "                            if os.path.isfile(img_path): \n",
    "                                img = cv2.imread(img_path) \n",
    "                                if img is not None:  \n",
    "                                    img = cv2.resize(img, (100, 100))\n",
    "                                    data.append(img)  \n",
    "                                    if i == \"Normal\":\n",
    "                                        label.append(0)  \n",
    "                                    elif i == \"Sick\":\n",
    "                                        label.append(1)\n"
   ]
  },
  {
   "cell_type": "code",
   "execution_count": 2,
   "id": "0c600bb1",
   "metadata": {},
   "outputs": [],
   "source": [
    "from matplotlib.pyplot import imshow\n",
    "from numpy import *"
   ]
  },
  {
   "cell_type": "code",
   "execution_count": 4,
   "id": "afbddbc8",
   "metadata": {},
   "outputs": [
    {
     "data": {
      "text/plain": [
       "17920"
      ]
     },
     "execution_count": 4,
     "metadata": {},
     "output_type": "execute_result"
    }
   ],
   "source": [
    "len(data)"
   ]
  },
  {
   "cell_type": "code",
   "execution_count": 6,
   "id": "ce2781e1",
   "metadata": {},
   "outputs": [
    {
     "data": {
      "text/plain": [
       "10092"
      ]
     },
     "execution_count": 6,
     "metadata": {},
     "output_type": "execute_result"
    }
   ],
   "source": [
    "label.count(0)"
   ]
  },
  {
   "cell_type": "code",
   "execution_count": 7,
   "id": "d56dd50e",
   "metadata": {},
   "outputs": [
    {
     "data": {
      "text/plain": [
       "7828"
      ]
     },
     "execution_count": 7,
     "metadata": {},
     "output_type": "execute_result"
    }
   ],
   "source": [
    "label.count(1)"
   ]
  },
  {
   "cell_type": "code",
   "execution_count": 8,
   "id": "0875479a",
   "metadata": {},
   "outputs": [],
   "source": [
    "data=array(data)/255\n",
    "label=array(label)"
   ]
  },
  {
   "cell_type": "code",
   "execution_count": 9,
   "id": "d32df7e8",
   "metadata": {},
   "outputs": [
    {
     "data": {
      "text/plain": [
       "(17920, 100, 100, 3)"
      ]
     },
     "execution_count": 9,
     "metadata": {},
     "output_type": "execute_result"
    }
   ],
   "source": [
    "data.shape"
   ]
  },
  {
   "cell_type": "code",
   "execution_count": 10,
   "id": "a9739b2e",
   "metadata": {},
   "outputs": [
    {
     "data": {
      "text/plain": [
       "(17920,)"
      ]
     },
     "execution_count": 10,
     "metadata": {},
     "output_type": "execute_result"
    }
   ],
   "source": [
    "label.shape"
   ]
  },
  {
   "cell_type": "code",
   "execution_count": 11,
   "id": "03634bf7",
   "metadata": {},
   "outputs": [
    {
     "data": {
      "text/plain": [
       "<matplotlib.image.AxesImage at 0x14edc66d0>"
      ]
     },
     "execution_count": 11,
     "metadata": {},
     "output_type": "execute_result"
    },
    {
     "data": {
      "image/png": "[encoded data removed]",
      "text/plain": [
       "<Figure size 640x480 with 1 Axes>"
      ]
     },
     "metadata": {},
     "output_type": "display_data"
    }
   ],
   "source": [
    "imshow(data[100])"
   ]
  },
  {
   "cell_type": "code",
   "execution_count": 12,
   "id": "7ad04aa3",
   "metadata": {},
   "outputs": [],
   "source": [
    "from sklearn.model_selection import train_test_split\n",
    "x_train,x_test,y_train,y_test=train_test_split(data,label,stratify=label,test_size=0.2)"
   ]
  },
  {
   "cell_type": "code",
   "execution_count": 14,
   "id": "22b15139",
   "metadata": {},
   "outputs": [
    {
     "name": "stdout",
     "output_type": "stream",
     "text": [
      "Model: \"sequential_1\"\n",
      "_________________________________________________________________\n",
      " Layer (type)                Output Shape              Param #   \n",
      "=================================================================\n",
      " conv2d_3 (Conv2D)           (None, 98, 98, 32)        896       \n",
      "                                                                 \n",
      " max_pooling2d_3 (MaxPoolin  (None, 49, 49, 32)        0         \n",
      " g2D)                                                            \n",
      "                                                                 \n",
      " conv2d_4 (Conv2D)           (None, 47, 47, 64)        18496     \n",
      "                                                                 \n",
      " max_pooling2d_4 (MaxPoolin  (None, 23, 23, 64)        0         \n",
      " g2D)                                                            \n",
      "                                                                 \n",
      " conv2d_5 (Conv2D)           (None, 21, 21, 64)        36928     \n",
      "                                                                 \n",
      " max_pooling2d_5 (MaxPoolin  (None, 10, 10, 64)        0         \n",
      " g2D)                                                            \n",
      "                                                                 \n",
      " flatten_1 (Flatten)         (None, 6400)              0         \n",
      "                                                                 \n",
      " dense_2 (Dense)             (None, 64)                409664    \n",
      "                                                                 \n",
      " dense_3 (Dense)             (None, 1)                 65        \n",
      "                                                                 \n",
      "=================================================================\n",
      "Total params: 466049 (1.78 MB)\n",
      "Trainable params: 466049 (1.78 MB)\n",
      "Non-trainable params: 0 (0.00 Byte)\n",
      "_________________________________________________________________\n"
     ]
    }
   ],
   "source": [
    "import tensorflow as tf\n",
    "from tensorflow.keras import layers, models\n",
    "model = models.Sequential()\n",
    "model.add(layers.Conv2D(32, (3, 3), activation='relu', input_shape=(100, 100, 3)))\n",
    "model.add(layers.MaxPooling2D((2, 2)))\n",
    "model.add(layers.Conv2D(64, (3, 3), activation='relu'))\n",
    "model.add(layers.MaxPooling2D((2, 2)))\n",
    "model.add(layers.Conv2D(64, (3, 3), activation='relu'))\n",
    "model.add(layers.MaxPooling2D((2, 2)))\n",
    "model.add(layers.Flatten())\n",
    "model.add(layers.Dense(64, activation='relu'))\n",
    "model.add(layers.Dense(1, activation='sigmoid'))\n",
    "model.compile(optimizer='adam',\n",
    "              loss='binary_crossentropy', \n",
    "              metrics=['accuracy'])\n",
    "model.summary()"
   ]
  },
  {
   "cell_type": "code",
   "execution_count": 15,
   "id": "edead570",
   "metadata": {},
   "outputs": [
    {
     "name": "stdout",
     "output_type": "stream",
     "text": [
      "Epoch 1/10\n",
      "448/448 [==============================] - 39s 86ms/step - loss: 0.4894 - accuracy: 0.7441 - val_loss: 0.2997 - val_accuracy: 0.8680\n",
      "Epoch 2/10\n",
      "448/448 [==============================] - 40s 90ms/step - loss: 0.2133 - accuracy: 0.9135 - val_loss: 0.2088 - val_accuracy: 0.9219\n",
      "Epoch 3/10\n",
      "448/448 [==============================] - 45s 100ms/step - loss: 0.1130 - accuracy: 0.9546 - val_loss: 0.2070 - val_accuracy: 0.9252\n",
      "Epoch 4/10\n",
      "448/448 [==============================] - 46s 102ms/step - loss: 0.0692 - accuracy: 0.9736 - val_loss: 0.1907 - val_accuracy: 0.9406\n",
      "Epoch 5/10\n",
      "448/448 [==============================] - 46s 103ms/step - loss: 0.0417 - accuracy: 0.9854 - val_loss: 0.1547 - val_accuracy: 0.9526\n",
      "Epoch 6/10\n",
      "448/448 [==============================] - 45s 101ms/step - loss: 0.0284 - accuracy: 0.9909 - val_loss: 0.1490 - val_accuracy: 0.9601\n",
      "Epoch 7/10\n",
      "448/448 [==============================] - 45s 100ms/step - loss: 0.0315 - accuracy: 0.9904 - val_loss: 0.1722 - val_accuracy: 0.9495\n",
      "Epoch 8/10\n",
      "448/448 [==============================] - 44s 98ms/step - loss: 0.0163 - accuracy: 0.9957 - val_loss: 0.1472 - val_accuracy: 0.9671\n",
      "Epoch 9/10\n",
      "448/448 [==============================] - 44s 99ms/step - loss: 0.0132 - accuracy: 0.9963 - val_loss: 0.2534 - val_accuracy: 0.9434\n",
      "Epoch 10/10\n",
      "448/448 [==============================] - 48s 107ms/step - loss: 0.0215 - accuracy: 0.9939 - val_loss: 0.1904 - val_accuracy: 0.9618\n"
     ]
    }
   ],
   "source": [
    "history = model.fit(x_train, y_train, epochs=10, validation_data=(x_test, y_test))"
   ]
  },
  {
   "cell_type": "code",
   "execution_count": 16,
   "id": "d404f9cb",
   "metadata": {},
   "outputs": [
    {
     "data": {
      "image/png": "[encoded data removed]",
      "text/plain": [
       "<Figure size 640x480 with 1 Axes>"
      ]
     },
     "metadata": {},
     "output_type": "display_data"
    },
    {
     "data": {
      "image/png": "[encoded data removed]",
      "text/plain": [
       "<Figure size 640x480 with 1 Axes>"
      ]
     },
     "metadata": {},
     "output_type": "display_data"
    }
   ],
   "source": [
    "import matplotlib.pyplot as plt\n",
    "plt.plot(history.history['accuracy'], label='accuracy')\n",
    "plt.plot(history.history['val_accuracy'], label = 'val_accuracy')\n",
    "plt.xlabel('Epoch')\n",
    "plt.ylabel('Accuracy')\n",
    "plt.ylim([0, 1])\n",
    "plt.legend(loc='lower right')\n",
    "plt.show()\n",
    "plt.plot(history.history['loss'], label='loss')\n",
    "plt.plot(history.history['val_loss'], label = 'val_loss')\n",
    "plt.xlabel('Epoch')\n",
    "plt.ylabel('Loss')\n",
    "plt.legend(loc='upper right')\n",
    "plt.show()"
   ]
  },
  {
   "cell_type": "code",
   "execution_count": 17,
   "id": "338ca7fd",
   "metadata": {},
   "outputs": [
    {
     "name": "stderr",
     "output_type": "stream",
     "text": [
      "/Users/abhishek/anaconda3/lib/python3.11/site-packages/keras/src/engine/training.py:3103: UserWarning: You are saving your model as an HDF5 file via `model.save()`. This file format is considered legacy. We recommend using instead the native Keras format, e.g. `model.save('my_model.keras')`.\n",
      "  saving_api.save_model(\n"
     ]
    }
   ],
   "source": [
    "model.save(\"model.h5\")"
   ]
  },
  {
   "cell_type": "code",
   "execution_count": 18,
   "id": "2ace8caa",
   "metadata": {},
   "outputs": [],
   "source": [
    "model.save(\"model.keras\")"
   ]
  },
  {
   "cell_type": "code",
   "execution_count": 43,
   "id": "18478fe9",
   "metadata": {},
   "outputs": [],
   "source": [
    "from sklearn.metrics import *"
   ]
  },
  {
   "cell_type": "code",
   "execution_count": 35,
   "id": "ad7c5278",
   "metadata": {},
   "outputs": [
    {
     "name": "stdout",
     "output_type": "stream",
     "text": [
      "112/112 [==============================] - 2s 21ms/step\n"
     ]
    }
   ],
   "source": [
    "pred=model.predict(x_test)"
   ]
  },
  {
   "cell_type": "code",
   "execution_count": 36,
   "id": "91355711",
   "metadata": {},
   "outputs": [],
   "source": [
    "for i in range(0,len(pred)):\n",
    "    if pred[i]>=0.5:\n",
    "        pred[i]=1\n",
    "    else:\n",
    "        pred[i]=0"
   ]
  },
  {
   "cell_type": "code",
   "execution_count": 42,
   "id": "ace7204c",
   "metadata": {},
   "outputs": [
    {
     "name": "stdout",
     "output_type": "stream",
     "text": [
      "              precision    recall  f1-score   support\n",
      "\n",
      "         0.0       0.97      0.96      0.97      2041\n",
      "         1.0       0.95      0.96      0.96      1543\n",
      "\n",
      "    accuracy                           0.96      3584\n",
      "   macro avg       0.96      0.96      0.96      3584\n",
      "weighted avg       0.96      0.96      0.96      3584\n",
      "\n"
     ]
    }
   ],
   "source": [
    "print(classification_report(pred,y_test))"
   ]
  },
  {
   "cell_type": "code",
   "execution_count": 44,
   "id": "a10bf452",
   "metadata": {},
   "outputs": [
    {
     "data": {
      "text/plain": [
       "array([[1961,   80],\n",
       "       [  57, 1486]])"
      ]
     },
     "execution_count": 44,
     "metadata": {},
     "output_type": "execute_result"
    }
   ],
   "source": [
    "confusion_matrix(pred,y_test)"
   ]
  },
  {
   "cell_type": "code",
   "execution_count": null,
   "id": "8d4a178f",
   "metadata": {},
   "outputs": [],
   "source": []
  }
 ],
 "metadata": {
  "kernelspec": {
   "display_name": "Python 3 (ipykernel)",
   "language": "python",
   "name": "python3"
  },
  "language_info": {
   "codemirror_mode": {
    "name": "ipython",
    "version": 3
   },
   "file_extension": ".py",
   "mimetype": "text/x-python",
   "name": "python",
   "nbconvert_exporter": "python",
   "pygments_lexer": "ipython3",
   "version": "3.11.5"
  }
 },
 "nbformat": 4,
 "nbformat_minor": 5
}
